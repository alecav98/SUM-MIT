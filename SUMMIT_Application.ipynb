{
  "nbformat": 4,
  "nbformat_minor": 0,
  "metadata": {
    "colab": {
      "name": "SUMMIT_Application.ipynb",
      "version": "0.3.2",
      "provenance": [],
      "collapsed_sections": []
    },
    "kernelspec": {
      "name": "python3",
      "display_name": "Python 3"
    }
  },
  "cells": [
    {
      "cell_type": "markdown",
      "metadata": {
        "id": "PN105eWIV9H3",
        "colab_type": "text"
      },
      "source": [
        "# SUM+MIT\n",
        "This notebook contains the code for using the CNN with your own equation.\n",
        "\n",
        "Upload \"cnn.h5\" before running.\n",
        "\n"
      ]
    },
    {
      "cell_type": "markdown",
      "metadata": {
        "id": "w-EuKtIVWOBB",
        "colab_type": "text"
      },
      "source": [
        "## Uploading the CNN"
      ]
    },
    {
      "cell_type": "code",
      "metadata": {
        "colab_type": "code",
        "id": "yC46RauFzeoC",
        "colab": {}
      },
      "source": [
        "# Import all necessary packages\n",
        "from __future__ import absolute_import, division, print_function, unicode_literals\n",
        "\n",
        "import tensorflow as tf\n",
        "from sklearn.datasets import load_files\n",
        "import matplotlib.pyplot as plt \n",
        "import pandas as pd\n",
        "import cv2\n",
        "import math\n",
        "import imageio\n",
        "import numpy as np\n",
        "import os \n",
        "from keras.preprocessing.image import img_to_array\n",
        "from PIL import Image, ImageOps\n",
        "import glob\n",
        "import re"
      ],
      "execution_count": 0,
      "outputs": []
    },
    {
      "cell_type": "code",
      "metadata": {
        "colab_type": "code",
        "id": "M5FelvskzeoI",
        "colab": {}
      },
      "source": [
        "# Additional imports\n",
        "import logging\n",
        "logger = tf.get_logger()\n",
        "logger.setLevel(logging.ERROR)"
      ],
      "execution_count": 0,
      "outputs": []
    },
    {
      "cell_type": "markdown",
      "metadata": {
        "id": "PUfJ59h5WWqv",
        "colab_type": "text"
      },
      "source": [
        "## Loading model\n",
        "You should have saved a cnn.h5 file, which we will upload into the Colab now."
      ]
    },
    {
      "cell_type": "code",
      "metadata": {
        "id": "_6A-Zt0TWLPD",
        "colab_type": "code",
        "colab": {}
      },
      "source": [
        "new_model = tf.keras.models.load_model('cnn.h5')\n",
        "new_model.summary()\n",
        "BATCH_SIZE = 32"
      ],
      "execution_count": 0,
      "outputs": []
    },
    {
      "cell_type": "markdown",
      "metadata": {
        "id": "NmpMeVhS0wFx",
        "colab_type": "text"
      },
      "source": [
        "##  Upload your equation"
      ]
    },
    {
      "cell_type": "code",
      "metadata": {
        "colab_type": "code",
        "id": "qA99EnHw073s",
        "colab": {}
      },
      "source": [
        "# Import the modules\n",
        "import cv2\n",
        "from google.colab.patches import cv2_imshow\n",
        "from sklearn.externals import joblib\n",
        "from skimage.feature import hog"
      ],
      "execution_count": 0,
      "outputs": []
    },
    {
      "cell_type": "markdown",
      "metadata": {
        "id": "01hvn9Rv_CYL",
        "colab_type": "text"
      },
      "source": [
        "### Take a photo with your webcam\n",
        "The following code will set up all the necessary tools and create a fuction which will allow colab to take a photo directly from your camera."
      ]
    },
    {
      "cell_type": "code",
      "metadata": {
        "id": "T7tY2g3ATPo1",
        "colab_type": "code",
        "colab": {}
      },
      "source": [
        "# I have no idea who is the author of the code\n",
        "# in this cell that saves an image from a webcam\n",
        "# inside google colab.\n",
        "# It comes from a notebook called \"📸 Take a photo with your webcam\"\n",
        "\n",
        "from IPython.display import HTML, Audio\n",
        "from google.colab.output import eval_js\n",
        "from base64 import b64decode\n",
        "import numpy as np\n",
        "import io\n",
        "from PIL import Image\n",
        "\n",
        "VIDEO_HTML = \"\"\"\n",
        "<video autoplay\n",
        " width=%d height=%d style='cursor: pointer;'></video>\n",
        "<script>\n",
        "\n",
        "var video = document.querySelector('video')\n",
        "\n",
        "navigator.mediaDevices.getUserMedia({ video: true })\n",
        "  .then(stream=> video.srcObject = stream)\n",
        "  \n",
        "var data = new Promise(resolve=>{\n",
        "  video.onclick = ()=>{\n",
        "    var canvas = document.createElement('canvas')\n",
        "    var [w,h] = [video.offsetWidth, video.offsetHeight]\n",
        "    canvas.width = w\n",
        "    canvas.height = h\n",
        "    canvas.getContext('2d')\n",
        "          .drawImage(video, 0, 0, w, h)\n",
        "    video.srcObject.getVideoTracks()[0].stop()\n",
        "    video.replaceWith(canvas)\n",
        "    resolve(canvas.toDataURL('image/jpeg', %f))\n",
        "  }\n",
        "})\n",
        "</script>\n",
        "\"\"\"\n",
        "def take_photo(filename='photo.jpg', quality=0.8, size=(800,600)):\n",
        "  display(HTML(VIDEO_HTML % (size[0],size[1],quality)))\n",
        "  data = eval_js(\"data\")\n",
        "  binary = b64decode(data.split(',')[1])\n",
        "  f = io.BytesIO(binary)\n",
        "  return np.asarray(Image.open(f))"
      ],
      "execution_count": 0,
      "outputs": []
    },
    {
      "cell_type": "code",
      "metadata": {
        "id": "QBFFBpx0TV5X",
        "colab_type": "code",
        "colab": {}
      },
      "source": [
        "img = take_photo() # click on the image to take photo"
      ],
      "execution_count": 0,
      "outputs": []
    },
    {
      "cell_type": "code",
      "metadata": {
        "id": "qSyiAqib_UjW",
        "colab_type": "code",
        "colab": {}
      },
      "source": [
        "# Display the photo you just took\n",
        "plt.figure(figsize=(10,10))\n",
        "plt.imshow(img)\n",
        "plt.show()"
      ],
      "execution_count": 0,
      "outputs": []
    },
    {
      "cell_type": "code",
      "metadata": {
        "id": "E4rO9ycqO55Y",
        "colab_type": "code",
        "colab": {}
      },
      "source": [
        "# Let's see how the image is stored\n",
        "type(img)"
      ],
      "execution_count": 0,
      "outputs": []
    },
    {
      "cell_type": "code",
      "metadata": {
        "id": "Ivo5AiFyMeka",
        "colab_type": "code",
        "colab": {}
      },
      "source": [
        "# We need it in jpg format, so we will store it as such\n",
        "im = Image.fromarray(img)\n",
        "im.save(\"colab_pic.jpg\")"
      ],
      "execution_count": 0,
      "outputs": []
    },
    {
      "cell_type": "code",
      "metadata": {
        "colab_type": "code",
        "id": "X-ra5WOH0734",
        "colab": {}
      },
      "source": [
        "# Read in the new jpg\n",
        "im = cv2.imread(\"colab_pic.jpg\")"
      ],
      "execution_count": 0,
      "outputs": []
    },
    {
      "cell_type": "code",
      "metadata": {
        "id": "O6jAQIQDREN6",
        "colab_type": "code",
        "colab": {}
      },
      "source": [
        "type(im)"
      ],
      "execution_count": 0,
      "outputs": []
    },
    {
      "cell_type": "code",
      "metadata": {
        "colab_type": "code",
        "id": "vaaMrz_20736",
        "colab": {}
      },
      "source": [
        "# Convert to grayscale and apply Gaussian filtering\n",
        "im_gray = cv2.cvtColor(im, cv2.COLOR_BGR2GRAY)\n",
        "im_blur = cv2.GaussianBlur(im_gray, (5, 5), 0)"
      ],
      "execution_count": 0,
      "outputs": []
    },
    {
      "cell_type": "code",
      "metadata": {
        "colab_type": "code",
        "id": "QwRO3pks073_",
        "colab": {}
      },
      "source": [
        "# Show the original image in black and white\n",
        "plt.imshow(im_gray, cmap=\"gray\")"
      ],
      "execution_count": 0,
      "outputs": []
    },
    {
      "cell_type": "code",
      "metadata": {
        "id": "jzaa5GABWK5S",
        "colab_type": "code",
        "colab": {}
      },
      "source": [
        "# Show the blurred image in black and white\n",
        "plt.imshow(im_blur, cmap=\"gray\")"
      ],
      "execution_count": 0,
      "outputs": []
    },
    {
      "cell_type": "code",
      "metadata": {
        "id": "xy8EI6gJX7qd",
        "colab_type": "code",
        "colab": {}
      },
      "source": [
        "# Calculating optimal threshold\n",
        "median_array = image.img_to_array(im_blur)\n",
        "median_array = median_array.ravel()\n",
        "median = np.median(median_array)\n",
        "median_third = median*0.66"
      ],
      "execution_count": 0,
      "outputs": []
    },
    {
      "cell_type": "code",
      "metadata": {
        "colab_type": "code",
        "id": "uW5g4ZcB074E",
        "colab": {}
      },
      "source": [
        "# Threshold the image\n",
        "ret, im_th = cv2.threshold(im_gray, median_third, 255, cv2.THRESH_BINARY_INV)"
      ],
      "execution_count": 0,
      "outputs": []
    },
    {
      "cell_type": "code",
      "metadata": {
        "id": "UMcL8gnXW7Li",
        "colab_type": "code",
        "colab": {}
      },
      "source": [
        "# Show the thresholded image\n",
        "plt.imshow(im_th, cmap=\"gray\")"
      ],
      "execution_count": 0,
      "outputs": []
    },
    {
      "cell_type": "code",
      "metadata": {
        "colab_type": "code",
        "id": "UkYIkS2j074I",
        "colab": {}
      },
      "source": [
        "# Find contours in the image\n",
        "image, ctrs, hier = cv2.findContours(im_th.copy(), cv2.RETR_EXTERNAL, cv2.CHAIN_APPROX_SIMPLE)"
      ],
      "execution_count": 0,
      "outputs": []
    },
    {
      "cell_type": "code",
      "metadata": {
        "colab_type": "code",
        "id": "S32tpBre074O",
        "colab": {}
      },
      "source": [
        "# Get rectangles contains each contour\n",
        "rects = [cv2.boundingRect(ctr) for ctr in ctrs]"
      ],
      "execution_count": 0,
      "outputs": []
    },
    {
      "cell_type": "code",
      "metadata": {
        "id": "wyHdViW31vqv",
        "colab_type": "code",
        "colab": {}
      },
      "source": [
        "# This function will be used to pad and resize each of the digits and symbols\n",
        "def pad_and_resize(img, size, rgb=(0,0,0)):\n",
        "  # Obtains max dimension\n",
        "  wh = img.size\n",
        "  max_dim = max(wh)\n",
        "  # Obtains width and height padding\n",
        "  width_pad, height_pad = max_dim - wh[0], max_dim - wh[1]\n",
        "  # Obtains left, right, top, bottom padding\n",
        "  left_pad, top_pad = width_pad // 2, height_pad // 2\n",
        "  right_pad, bottom_pad = width_pad - left_pad, height_pad - top_pad\n",
        "  # Pads the image\n",
        "  padding = (left_pad, top_pad, right_pad, bottom_pad)\n",
        "  padded_img = ImageOps.expand(img,padding, 0)\n",
        "  return padded_img.resize(size, Image.ANTIALIAS)"
      ],
      "execution_count": 0,
      "outputs": []
    },
    {
      "cell_type": "markdown",
      "metadata": {
        "id": "tv2cGijUyZr-",
        "colab_type": "text"
      },
      "source": [
        "### Getting Predictions"
      ]
    },
    {
      "cell_type": "markdown",
      "metadata": {
        "id": "fNLymI9yw6b4",
        "colab_type": "text"
      },
      "source": [
        "The following cells get the predictions from the bounding boxes. They will remove noise by cropping the images closer to the digit and then adding a border. "
      ]
    },
    {
      "cell_type": "code",
      "metadata": {
        "id": "94435rZPXVxA",
        "colab_type": "code",
        "colab": {}
      },
      "source": [
        "# Function will determine size of border needed based on \n",
        "# the area of the bounding box given\n",
        "def b_size(area):\n",
        "  border = 0\n",
        "  if area <= 7000:\n",
        "    border = 15\n",
        "  elif area > 7000 and area <= 50000:\n",
        "    border = 30\n",
        "  elif area > 50000 and area < 90000:\n",
        "    border = 50\n",
        "  else:\n",
        "    border=75\n",
        "  return border"
      ],
      "execution_count": 0,
      "outputs": []
    },
    {
      "cell_type": "code",
      "metadata": {
        "id": "c6OQlxmVNJ4t",
        "colab_type": "code",
        "colab": {}
      },
      "source": [
        "from google.colab.patches import cv2_imshow\n",
        "from PIL import Image, ImageOps\n",
        "\n",
        "indiv_boxes = []\n",
        "count = 0\n",
        "for rect in rects:\n",
        "  number = []\n",
        "  if rect[2] + rect[3] < 80:\n",
        "    continue\n",
        "  # rect object gives tuple with x1, y1, height, width\n",
        "  count = count + 1\n",
        "  \n",
        "  area = rect[2]*rect[3]\n",
        "  border = b_size(area)\n",
        "\n",
        "  # Draw the rectangles\n",
        "  cv2.rectangle(im, (rect[0], rect[1]), (rect[0] + rect[2], rect[1] + rect[3]), (0, 255, 0), 3) \n",
        "  \n",
        "  # Cropping each bounding box and storing the image inside into roi\n",
        "  roi = im_th[int(rect[1]):int(rect[1]+rect[3]), int(rect[0]):int(rect[0]+rect[2])]\n",
        "  \n",
        "  # Make number thicker so it becomes easier to recognize\n",
        "  kernel = np.ones((5,5),np.uint8)\n",
        "  dilated_im = cv2.dilate(roi,kernel,iterations = 1)\n",
        "  \n",
        "  # Making roi into an image so that we can resize\n",
        "  img_jpg = Image.fromarray(dilated_im)\n",
        "  \n",
        "  # Adding a border to the image\n",
        "  img_with_border = ImageOps.expand(img_jpg,border=border,fill=0)#15\n",
        "  \n",
        "  # Setting the size for resizing\n",
        "  size = (28, 28)\n",
        "  \n",
        "  # Padding and resizing the image (which is one rectange)\n",
        "  new_img = pad_and_resize(img_with_border, size=size)\n",
        "  \n",
        "  # Turning the resized image back into an array\n",
        "  value = img_to_array(new_img)\n",
        "  \n",
        "  # print(list(value))\n",
        "  y = np.expand_dims(value, axis=0)\n",
        "  \n",
        "  # Get prediction of number inside bounding box from the image\n",
        "  predictions = model.predict(y)\n",
        "  number.append(np.argmax(predictions))\n",
        "  number.append(rect)\n",
        "  print('prediction: {}'.format(np.argmax(predictions)))\n",
        "  #cv2_imshow(roi) # this is actual image\n",
        "  indiv_boxes.append(number)\n",
        "  plt.imshow(new_img, cmap = \"gray\") # this is image with border added\n",
        "  plt.show()\n",
        "\n",
        "cv2_imshow(im)"
      ],
      "execution_count": 0,
      "outputs": []
    },
    {
      "cell_type": "markdown",
      "metadata": {
        "id": "TmpsIyPQXMaP",
        "colab_type": "text"
      },
      "source": [
        "This next part of the code is the sequencing algorithm, which orders the digits and symbols as they are written on the page."
      ]
    },
    {
      "cell_type": "code",
      "metadata": {
        "id": "wtwrHe8i_L-s",
        "colab_type": "code",
        "colab": {}
      },
      "source": [
        "# Computes shortest eucledian distance from the origin\n",
        "def distance_from_origin(xi,yi):\n",
        "    sq1 = xi*xi\n",
        "    sq2 = yi*yi\n",
        "    return math.sqrt(sq1 + sq2)\n",
        "  \n",
        "# Orders bounding boxes based on location in the image  \n",
        "def order(predlist):\n",
        "  rect_to_remove = []\n",
        "  row_rect_close_to_origin = []\n",
        "  ordered_list = [] #Output list\n",
        "  length_of_r_list = len(predlist)\n",
        "\n",
        "  while len(ordered_list) != length_of_r_list: \n",
        "    #Default smallest distance from first value in list\n",
        "    smallest_dist = distance_from_origin(predlist[0][1][0], predlist[0][1][1])\n",
        "    row_list = []\n",
        "\n",
        "    #Find boundary box closet to origin\n",
        "    for rect in predlist:\n",
        "      dist = distance_from_origin(rect[1][0], rect[1][1])\n",
        "      if(dist <= smallest_dist):\n",
        "        smallest_dist = dist\n",
        "        close_to_origin = rect\n",
        "\n",
        "        #Get y value of point 2, All boundary boxes with y value \n",
        "        #of point 1 less than check are added next\n",
        "        check = close_to_origin[1][1] + close_to_origin[1][3]\n",
        "\n",
        "    #Append to ordered list\n",
        "    ordered_list.append(close_to_origin)  \n",
        "\n",
        "    #Remove it from the list\n",
        "    predlist.remove(close_to_origin)\n",
        "    \n",
        "  #Check if other boundary boxes exist in the same row\n",
        "    for rect in predlist:\n",
        "      #Check if pt_1_y is less than pt_2_y\n",
        "      if(rect[1][1] <= check):\n",
        "        #Append to a row list\n",
        "        row_list.append(rect)\n",
        "    #Remove all bondary boxes from r_list that were in row_list\n",
        "    [predlist.remove(rect) for rect in row_list]\n",
        "    \n",
        "    print(\"row_list\",row_list)\n",
        "\n",
        "    #Now check what values in the row are closet to the origin\n",
        "    for _ in range(len(row_list)):  \n",
        "      #Default smallest distance from first value in list\n",
        "      smallest_dist = distance_from_origin(row_list[0][1][0], row_list[0][1][1])\n",
        "\n",
        "      for rect in row_list:\n",
        "        dist = distance_from_origin(rect[1][0], rect[1][1])\n",
        "\n",
        "        if(dist <= smallest_dist):\n",
        "          smallest_dist = dist\n",
        "          row_rect_close_to_origin = rect\n",
        "      row_list.remove(row_rect_close_to_origin)\n",
        "      \n",
        "      #Append box closet to origin\n",
        "      ordered_list.append(row_rect_close_to_origin)      \n",
        "\n",
        "  return ordered_list"
      ],
      "execution_count": 0,
      "outputs": []
    },
    {
      "cell_type": "code",
      "metadata": {
        "id": "c4u4kAX5FSoq",
        "colab_type": "code",
        "colab": {}
      },
      "source": [
        "# the ordered list of bounding boxes (also contains predictions)\n",
        "checkList = order(indiv_boxes)\n",
        "print(checkList)\n",
        "\n",
        "# mathequation will be the array that we turn into str\n",
        "mathequation = [checkList[i][0] for i in range(len(checkList))]\n",
        "print(mathequation)"
      ],
      "execution_count": 0,
      "outputs": []
    },
    {
      "cell_type": "code",
      "metadata": {
        "id": "1yUs-Q408mcl",
        "colab_type": "code",
        "colab": {}
      },
      "source": [
        "from array import array\n",
        "import operator\n",
        "\n",
        "# Turns the equation array into a string\n",
        "def to_str(arr):\n",
        "  operation = \"\"\n",
        "  for x in arr:\n",
        "    if x == 10:\n",
        "      operation += (str(chr(45)))\n",
        "    elif x == 11:\n",
        "      operation += (str(chr(43)))\n",
        "    elif x == 12:\n",
        "      operation += (str(chr(42)))\n",
        "    elif x == 13:\n",
        "      operation += (str(chr(47)))\n",
        "    else:\n",
        "      operation += (str(x))\n",
        "\n",
        "  return operation\n",
        "\n",
        "# Save the string version of the equation\n",
        "new_str = to_str(mathequation)"
      ],
      "execution_count": 0,
      "outputs": []
    },
    {
      "cell_type": "code",
      "metadata": {
        "id": "lzabwWy3mNsE",
        "colab_type": "code",
        "colab": {}
      },
      "source": [
        "# Check to make sure the divisions are read in correctly\n",
        "def right_div(some_str):\n",
        "  if len(some_str) <= 3:\n",
        "    return some_str\n",
        "  for i in range(len(some_str)-3):\n",
        "    if some_str[i:i+3] == '0-0' and some_str[i+3] != '.':\n",
        "      some_str = some_str.replace('0-0','/')\n",
        "      \n",
        "  return some_str\n",
        "\n",
        "new_str = right_div(new_str)\n",
        "print('The equation is: {}'.format(new_str))"
      ],
      "execution_count": 0,
      "outputs": []
    },
    {
      "cell_type": "code",
      "metadata": {
        "id": "nP3Tp7Ew_iDG",
        "colab_type": "code",
        "colab": {}
      },
      "source": [
        "# Get solution and output it\n",
        "solution = eval(new_str)\n",
        "print('The solution is: {}'.format(solution))"
      ],
      "execution_count": 0,
      "outputs": []
    }
  ]
}